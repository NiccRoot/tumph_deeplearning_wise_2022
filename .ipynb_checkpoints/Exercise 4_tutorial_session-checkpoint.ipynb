{
 "cells": [
  {
   "cell_type": "markdown",
   "id": "9b8d52ba",
   "metadata": {},
   "source": [
    "## Building a Multilayer Perceptron\n",
    "\n",
    "Let's follow the lecture and build a multilayer perceptron to approximate the function $\\theta(x)$ in our variational inference model $$\\mathrm{Bernoulli}(z|\\theta(x))$$ with the following structure\n",
    "\n",
    "* 2 input nodes\n",
    "* 2 internal features computed using ReLu activation\n",
    "* 1 output feature with sigmoid activation that \n",
    "\n",
    "From Ex3, we had already the following code ready"
   ]
  },
  {
   "cell_type": "code",
   "execution_count": 1,
   "id": "6ab623e3",
   "metadata": {},
   "outputs": [],
   "source": [
    "import numpy as np\n",
    "import matplotlib.pyplot as plt\n",
    "\n",
    "def linear(X,pars):\n",
    "    out = X @ pars[:2].T + pars[2]\n",
    "    grad_pars = np.column_stack([X,np.ones(len(X))])\n",
    "    return out,grad_pars\n",
    "\n",
    "def sigmoid(x):\n",
    "    out = 1/(1+np.exp(-x))\n",
    "    grad = out*(1-out)\n",
    "    return out,grad.reshape(-1,1)\n",
    "\n",
    "def theta_perceptron(X,pars):\n",
    "    feature1,grad_linear1 = linear(X,pars[0:3])\n",
    "    activation1,grad_sigmoid1 = sigmoid(feature1)\n",
    "    return activation1, grad_sigmoid1*grad_linear1"
   ]
  },
  {
   "cell_type": "markdown",
   "id": "ce90f49a",
   "metadata": {},
   "source": [
    "### Step 1\n",
    "\n",
    "* Write a function `relu(x)` that produces the relu activation function and its gradient.\n",
    "* make sure the gradient is returned as a shape (N,1)\n",
    "* plot it for the range: `x = np.linspace(-5,5,1001)`"
   ]
  },
  {
   "cell_type": "code",
   "execution_count": 2,
   "id": "db1a097c",
   "metadata": {},
   "outputs": [
    {
     "data": {
      "text/plain": [
       "<function matplotlib.pyplot.show(close=None, block=None)>"
      ]
     },
     "execution_count": 2,
     "metadata": {},
     "output_type": "execute_result"
    },
    {
     "data": {
      "image/png": "[encoded data removed]",
      "text/plain": [
       "<Figure size 432x288 with 1 Axes>"
      ]
     },
     "metadata": {
      "needs_background": "light"
     },
     "output_type": "display_data"
    }
   ],
   "source": [
    "def ReLU(x):\n",
    "    x=np.where(x>0,x,np.zeros_like(x))\n",
    "    grad=np.where(x>0,np.ones_like(x),np.zeros_like(x))\n",
    "    return x,grad\n",
    "x = np.linspace(-5,5,1001)\n",
    "y1,g1=ReLU(x)\n",
    "plt.plot(y1)\n",
    "plt.plot(g1)\n",
    "plt.show"
   ]
  },
  {
   "cell_type": "markdown",
   "id": "562c484d",
   "metadata": {},
   "source": [
    "### Step 2\n",
    "\n",
    "Write a function `multilayer_perceptron(X,pars)` that takes 9 parameters (3 for each artificial neurons: 2 weights and 1 bias) that can compute the $\\theta(x)$ prediction for many input points at once (batched computation)"
   ]
  },
  {
   "cell_type": "code",
   "execution_count": 6,
   "id": "a6890e94",
   "metadata": {},
   "outputs": [],
   "source": [
    "def multilayer_perceptron(X,pars):\n",
    "    f1,gradf1 = linear(X,pars[:3])\n",
    "    f2,gradf2 = linear(X,pars[3:6])\n",
    "    Rf1,Rgradf1 = ReLU(f1)\n",
    "    Rf2,Rgradf2 = ReLU(f2)\n",
    "    Rf = np.column_stack([Rf1,Rf2])\n",
    "    F,gradF = linear(Rf,pars[6:])\n",
    "    out,gradout = sigmoid(out)\n",
    "    return out "
   ]
  },
  {
   "cell_type": "markdown",
   "id": "3c370d21",
   "metadata": {},
   "source": [
    "### Step 4\n",
    "\n",
    "Use this function to plot the contour of the multilayer perceptron\n",
    "\n",
    "```python\n",
    "def plot_contour(func,pars):\n",
    "    grid = np.mgrid[-5:5:101j,-5:5:101j]\n",
    "    X = np.swapaxes(grid,0,-1).reshape(-1,2)\n",
    "    out = func(X,pars)\n",
    "    out = np.swapaxes(out.reshape(101,101),0,-1)\n",
    "    plt.contour(grid[0],grid[1],out)\n",
    "```\n",
    "\n",
    "Try for example parameter vectors: `np.array([1,0,0,0,1,0,1,1,0])` or what every you like."
   ]
  },
  {
   "cell_type": "code",
   "execution_count": 7,
   "id": "f0c6c2e5",
   "metadata": {},
   "outputs": [
    {
     "ename": "NameError",
     "evalue": "name 'out' is not defined",
     "output_type": "error",
     "traceback": [
      "\u001b[1;31m---------------------------------------------------------------------------\u001b[0m",
      "\u001b[1;31mNameError\u001b[0m                                 Traceback (most recent call last)",
      "Input \u001b[1;32mIn [7]\u001b[0m, in \u001b[0;36m<cell line: 8>\u001b[1;34m()\u001b[0m\n\u001b[0;32m      5\u001b[0m     out \u001b[38;5;241m=\u001b[39m np\u001b[38;5;241m.\u001b[39mswapaxes(out\u001b[38;5;241m.\u001b[39mreshape(\u001b[38;5;241m101\u001b[39m,\u001b[38;5;241m101\u001b[39m),\u001b[38;5;241m0\u001b[39m,\u001b[38;5;241m-\u001b[39m\u001b[38;5;241m1\u001b[39m)\n\u001b[0;32m      6\u001b[0m     plt\u001b[38;5;241m.\u001b[39mcontour(grid[\u001b[38;5;241m0\u001b[39m],grid[\u001b[38;5;241m1\u001b[39m],out)\n\u001b[1;32m----> 8\u001b[0m \u001b[43mplot_contour\u001b[49m\u001b[43m(\u001b[49m\u001b[43mmultilayer_perceptron\u001b[49m\u001b[43m,\u001b[49m\u001b[43mnp\u001b[49m\u001b[38;5;241;43m.\u001b[39;49m\u001b[43marray\u001b[49m\u001b[43m(\u001b[49m\u001b[43m[\u001b[49m\u001b[38;5;241;43m1\u001b[39;49m\u001b[43m,\u001b[49m\u001b[38;5;241;43m0\u001b[39;49m\u001b[43m,\u001b[49m\u001b[38;5;241;43m0\u001b[39;49m\u001b[43m,\u001b[49m\u001b[38;5;241;43m0\u001b[39;49m\u001b[43m,\u001b[49m\u001b[38;5;241;43m1\u001b[39;49m\u001b[43m,\u001b[49m\u001b[38;5;241;43m0\u001b[39;49m\u001b[43m,\u001b[49m\u001b[38;5;241;43m1\u001b[39;49m\u001b[43m,\u001b[49m\u001b[38;5;241;43m1\u001b[39;49m\u001b[43m,\u001b[49m\u001b[38;5;241;43m0\u001b[39;49m\u001b[43m]\u001b[49m\u001b[43m)\u001b[49m\u001b[43m)\u001b[49m\n",
      "Input \u001b[1;32mIn [7]\u001b[0m, in \u001b[0;36mplot_contour\u001b[1;34m(func, pars)\u001b[0m\n\u001b[0;32m      2\u001b[0m grid \u001b[38;5;241m=\u001b[39m np\u001b[38;5;241m.\u001b[39mmgrid[\u001b[38;5;241m-\u001b[39m\u001b[38;5;241m5\u001b[39m:\u001b[38;5;241m5\u001b[39m:\u001b[38;5;241m101\u001b[39mj,\u001b[38;5;241m-\u001b[39m\u001b[38;5;241m5\u001b[39m:\u001b[38;5;241m5\u001b[39m:\u001b[38;5;241m101\u001b[39mj]\n\u001b[0;32m      3\u001b[0m X \u001b[38;5;241m=\u001b[39m np\u001b[38;5;241m.\u001b[39mswapaxes(grid,\u001b[38;5;241m0\u001b[39m,\u001b[38;5;241m-\u001b[39m\u001b[38;5;241m1\u001b[39m)\u001b[38;5;241m.\u001b[39mreshape(\u001b[38;5;241m-\u001b[39m\u001b[38;5;241m1\u001b[39m,\u001b[38;5;241m2\u001b[39m)\n\u001b[1;32m----> 4\u001b[0m out \u001b[38;5;241m=\u001b[39m \u001b[43mfunc\u001b[49m\u001b[43m(\u001b[49m\u001b[43mX\u001b[49m\u001b[43m,\u001b[49m\u001b[43mpars\u001b[49m\u001b[43m)\u001b[49m\n\u001b[0;32m      5\u001b[0m out \u001b[38;5;241m=\u001b[39m np\u001b[38;5;241m.\u001b[39mswapaxes(out\u001b[38;5;241m.\u001b[39mreshape(\u001b[38;5;241m101\u001b[39m,\u001b[38;5;241m101\u001b[39m),\u001b[38;5;241m0\u001b[39m,\u001b[38;5;241m-\u001b[39m\u001b[38;5;241m1\u001b[39m)\n\u001b[0;32m      6\u001b[0m plt\u001b[38;5;241m.\u001b[39mcontour(grid[\u001b[38;5;241m0\u001b[39m],grid[\u001b[38;5;241m1\u001b[39m],out)\n",
      "Input \u001b[1;32mIn [6]\u001b[0m, in \u001b[0;36mmultilayer_perceptron\u001b[1;34m(X, pars)\u001b[0m\n\u001b[0;32m      6\u001b[0m Rf \u001b[38;5;241m=\u001b[39m np\u001b[38;5;241m.\u001b[39mcolumn_stack([Rf1,Rf2])\n\u001b[0;32m      7\u001b[0m F,gradF \u001b[38;5;241m=\u001b[39m linear(Rf,pars[\u001b[38;5;241m6\u001b[39m:])\n\u001b[1;32m----> 8\u001b[0m outt,gradout \u001b[38;5;241m=\u001b[39m sigmoid(\u001b[43mout\u001b[49m)\n\u001b[0;32m      9\u001b[0m \u001b[38;5;28;01mreturn\u001b[39;00m outt\n",
      "\u001b[1;31mNameError\u001b[0m: name 'out' is not defined"
     ]
    }
   ],
   "source": [
    "def plot_contour(func,pars):\n",
    "    grid = np.mgrid[-5:5:101j,-5:5:101j]\n",
    "    X = np.swapaxes(grid,0,-1).reshape(-1,2)\n",
    "    out = func(X,pars)\n",
    "    out = np.swapaxes(out.reshape(101,101),0,-1)\n",
    "    plt.contour(grid[0],grid[1],out)\n",
    "    \n",
    "plot_contour(multilayer_perceptron,np.array([1,0,0,0,1,0,1,1,0]))"
   ]
  },
  {
   "cell_type": "markdown",
   "id": "ee208894",
   "metadata": {},
   "source": [
    "### Step 5\n",
    "\n",
    "Now comes the hard part!\n",
    "\n",
    "We want to compute gradients for this function\n",
    "\n",
    "$$\n",
    "\\vec{a} = [\\;\\mathrm{ReLU}(\\mathrm{Lin}(\\vec{x},\\phi_1))\\;,\\;\\mathrm{ReLU}(\\mathrm{Lin}(\\vec{x},\\phi_2))\\;]\\\\\n",
    "a_2 = \\sigma(\\mathrm{Lin}(\\vec{a},\\phi_3))\\\\\n",
    "$$\n",
    "\n",
    "To compute the gradient we need to also have the gradients $\\frac{\\partial \\mathrm{Lin}}{\\partial \\vec{x}}$\n",
    "\n",
    "* Write a new function that also outputs the partial derivatives with respect to $\\vec{x}$\n",
    "* Hint: the output shape of `grad_x` should be (1,3)!\n",
    "\n",
    "```python\n",
    "def linear(X,pars):\n",
    "   ...\n",
    "   return out,grad_pars,grad_x\n",
    "```\n",
    "$\n",
    "f1=L_1(x,\\Phi)\\\\\n",
    "a1=R1(f1)\\\\\n",
    "m=g(A,\\Phi)=g(a1,a2,\\Phi)\\\\\n",
    "o=\\sigma(m)\\\\\n",
    "\\partial_m\\sigma\\cdot\\partial_{a_1}m\\cdot\\partial_{f_1}a_1\\cdot\\partial_{\\Phi}f_1\\\\\n",
    "$"
   ]
  },
  {
   "cell_type": "code",
   "execution_count": null,
   "id": "245c6b51",
   "metadata": {},
   "outputs": [],
   "source": [
    "def linear(X,pars):\n",
    "    out = X @ pars[:2] + pars[2]\n",
    "    grad_pars = np.column_stack([X,np.ones(len(X))])\n",
    "    grad_X = pars[:2]\n",
    "    return out,grad_pars,grad_x.reshape(1,2)"
   ]
  },
  {
   "cell_type": "code",
   "execution_count": null,
   "id": "ed9180f7",
   "metadata": {},
   "outputs": [],
   "source": [
    "### Step 6\n",
    "0.0299\n",
    "With this in hadn you can now carefully piece back the gradients together.\n",
    "\n",
    "We can start with the function like this\n",
    "\n",
    "```python\n",
    "def multilayer_perceptron(X,pars):\n",
    "    feature1,grad_f1,_ = linear(X,pars[0:3])\n",
    "    feature2,grad_f2,_ = linear(X,pars[3:6])\n",
    "    activation1,grad_r1 = relu(feature1)\n",
    "    activation2,grad_r2 = relu(feature2)\n",
    "    hidden = np.column_stack([activation1,activation2])\n",
    "    output_feature,grad_f3,grad_x = linear(hidden,pars[6:9]) #here is the new gradient!\n",
    "    theta,grad_sig = sigmoid(output_feature)\n",
    "    return theta\n",
    "```\n",
    "\n",
    "* Try to work out what the 9-dimensional gradient vector looks like for $\\nabla_\\phi \\theta(x,\\phi)$\n",
    "* Hint 1: the gradient should have the shape `(N,9)`\n",
    "* Hint 2: The following would be a correct result\n",
    "\n",
    "```python\n",
    "Xtest = np.array([[1.0,2.0]])\n",
    "pars = np.array([0.1,0.2,0.3,0.4,0.5,0.6,0.7,0.8,0.9])\n",
    "multilayer_perceptron(Xtest,pars)\n",
    "\n",
    "value: [0.9552123]\n",
    "gradient: [[0.02994724 0.05989447 0.02994724 0.03422541 0.06845082 0.03422541\n",
    "  0.03422541 0.08556353 0.04278176]]\n",
    "``` \n",
    "\n",
    "### Step 7\n",
    "\n",
    "## Training the Multi-Layer Perceptron\n",
    "\n",
    "We can adapt the learning code from Exercise 3 to learn the multi-layer perceptron.\n",
    "\n",
    "We can get some interesting datasets from the `scikit-learn` package\n",
    "\n",
    "* Install scikit-learn via `pip install scikit-learn`\n",
    "* Use the following data-generating function and plot the data\n",
    "\n",
    "```python\n",
    "def generate_data(N):\n",
    "    import sklearn.datasets as skld\n",
    "    X,z = skld.make_circles(N, noise = 0.1, factor=0.5)\n",
    "    filt =  (X[:,1] > 0)\n",
    "    return X[filt],z[filt]\n",
    "```\n",
    "\n",
    "We can now adapt our training code from Exercise 3 (take some time to go through it, but nothing fundamental changed) and train out multilayer perceptron!\n",
    "\n",
    "```python\n",
    "def loss(z,theta):\n",
    "    out = np.where(z==1,-np.log(theta),-np.log(1-theta))\n",
    "    grad = np.where(z==1,-1/theta,-1/(1-theta)*(-1))\n",
    "    return out,grad.reshape(-1,1)\n",
    "\n",
    "def empirical_risk(X,z,theta_func,pars):\n",
    "    theta,grad_theta = theta_func(X,pars)\n",
    "    loss_val,grad_loss = loss(z,theta)\n",
    "    grad1 = grad_loss*grad_theta\n",
    "    grad = np.concatenate([grad1], axis=-1)\n",
    "    return loss_val.mean(axis=0),grad.mean(axis=0),theta\n",
    "\n",
    "def plot(X,z,theta_func,pars):\n",
    "    grid = np.mgrid[-5:5:101j,-5:5:101j]\n",
    "    Xi = np.swapaxes(grid,0,-1).reshape(-1,2)   \n",
    "    _,_,zi = empirical_risk(Xi,np.zeros(len(Xi)),theta_func,pars)\n",
    "    zi = zi.reshape(101,101).T\n",
    "    plt.contour(grid[0],grid[1],zi, levels = np.linspace(0,1,21))\n",
    "    plt.scatter(X[:,0],X[:,1],c = z)\n",
    "    plt.xlim(-2,2)\n",
    "    plt.ylim(-2,2)\n",
    "\n",
    "def learn(data,pars,theta_func, nsteps = 15000):\n",
    "    X,z = data\n",
    "    for i in range(nsteps):\n",
    "        val,grad,_ = empirical_risk(X,z,theta_func,pars)\n",
    "        pars = pars - 0.01*grad\n",
    "        if i % (nsteps//4) == 0:\n",
    "            print(val,pars)\n",
    "            plot(X,z,theta_func,pars)\n",
    "            plt.gcf().set_size_inches(3,3)\n",
    "            plt.show()\n",
    "    return pars\n",
    "```\n",
    "\n",
    "# Try Learning\n",
    "\n",
    "Try learning on a dataset of 1000 samples and initialize the parameters with \n",
    "\n",
    "`pars = np.array([-.1,1,0,.1,1,0,-.1,-.1,0])`\n",
    "\n",
    "* The learning itself, depending on the initialization might or might not be super-convincing\n",
    "* Try executing this multiple times to try out different initializations\n",
    "* Ultimately, we will need to add more & more neurons, but as you see the gradient calculation is painful!\n",
    "* Try other initializations and see what happens\n",
    "\n",
    "### Going Beyond\n",
    "\n",
    "* Can you extend this to N hidden neurons?\n",
    "* If yes, try the following learning problem with e.g. 15 neurons\n",
    "\n",
    "```python\n",
    "def generate_data(N):\n",
    "    import sklearn.datasets as skld\n",
    "    X,z = skld.make_circles(N, noise = 0.1, factor=0.5)\n",
    "    return X,z\n",
    "```"
   ]
  }
 ],
 "metadata": {
  "kernelspec": {
   "display_name": "Python 3 (ipykernel)",
   "language": "python",
   "name": "python3"
  },
  "language_info": {
   "codemirror_mode": {
    "name": "ipython",
    "version": 3
   },
   "file_extension": ".py",
   "mimetype": "text/x-python",
   "name": "python",
   "nbconvert_exporter": "python",
   "pygments_lexer": "ipython3",
   "version": "3.10.4"
  }
 },
 "nbformat": 4,
 "nbformat_minor": 5
}
